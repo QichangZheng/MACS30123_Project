{
 "cells": [
  {
   "cell_type": "code",
   "execution_count": null,
   "metadata": {
    "collapsed": true
   },
   "outputs": [],
   "source": [
    "from transformers import pipeline"
   ]
  },
  {
   "cell_type": "code",
   "execution_count": null,
   "outputs": [],
   "source": [
    "model_name = 'uer/roberta-base-finetuned-jd-binary-chinese'\n",
    "nlp = pipeline('sentiment-analysis', model=model_name)"
   ],
   "metadata": {
    "collapsed": false
   }
  },
  {
   "cell_type": "code",
   "execution_count": null,
   "outputs": [],
   "source": [
    "def get_negative_sentiment_score(text, nlp):\n",
    "    try:\n",
    "        result = nlp(text)\n",
    "        negative_sentiment = result[0]['score'] if result[0]['label'] == 'negative (stars 1, 2 and 3)' else 1 - result[0]['score']\n",
    "    except:\n",
    "        negative_sentiment = 'NA'\n",
    "    return negative_sentiment"
   ],
   "metadata": {
    "collapsed": false
   }
  },
  {
   "cell_type": "code",
   "execution_count": null,
   "outputs": [],
   "source": [
    "%%configure -f\n",
    "{\n",
    "    \"conf\": {\n",
    "        \"spark.pyspark.python\": \"python3\",\n",
    "        \"spark.pyspark.virtualenv.enabled\": \"true\",\n",
    "        \"spark.pyspark.virtualenv.type\":\"native\",\n",
    "        \"spark.pyspark.virtualenv.bin.path\":\"/usr/bin/virtualenv\"\n",
    "    }\n",
    "}"
   ],
   "metadata": {
    "collapsed": false
   }
  },
  {
   "cell_type": "code",
   "execution_count": null,
   "outputs": [],
   "source": [
    "sc.install_pypi_package(\"boto3==1.19.2\")\n",
    "sc.install_pypi_package(\"pandas==1.0.5\")\n",
    "sc.install_pypi_package(\"scipy==1.4.1\")\n",
    "sc.install_pypi_package(\"matplotlib==3.2.1\")\n",
    "sc.install_pypi_package(\"seaborn==0.10.1\")\n",
    "sc.install_pypi_package('spark-nlp')\n",
    "sc.install_pypi_package(\"torch\")\n",
    "sc.install_pypi_package(\"transformers==4.2\")"
   ],
   "metadata": {
    "collapsed": false
   }
  },
  {
   "cell_type": "code",
   "execution_count": null,
   "outputs": [],
   "source": [
    "from pyspark.sql import SparkSession\n",
    "from pyspark.sql.functions import *\n",
    "from pyspark.ml.classification import LogisticRegression\n",
    "from pyspark.ml.feature import VectorAssembler\n",
    "from pyspark.ml.tuning import CrossValidator, ParamGridBuilder\n",
    "from pyspark.ml.evaluation import BinaryClassificationEvaluator\n",
    "import numpy as np\n",
    "import matplotlib.pyplot as plt\n",
    "from transformers import pipeline\n",
    "import torch\n",
    "import sparknlp\n",
    "from sparknlp.pretrained import PretrainedPipeline\n",
    "from sparknlp.annotator import *\n",
    "from sparknlp.common import RegexRule\n",
    "from sparknlp.base import *"
   ],
   "metadata": {
    "collapsed": false
   }
  },
  {
   "cell_type": "code",
   "execution_count": null,
   "outputs": [],
   "source": [
    "data = spark.read.json('s3://amazon-reviews-ml/json/train/dataset_zh_train.json')"
   ],
   "metadata": {
    "collapsed": false
   }
  },
  {
   "cell_type": "code",
   "execution_count": null,
   "outputs": [],
   "source": [
    "from transformers import pipeline\n",
    "# model_name = 'uer/roberta-base-finetuned-jd-binary-chinese'\n",
    "# model_name = 'uer/roberta-base-finetuned-dianping-chinese'\n",
    "models = [\n",
    "    'uer/roberta-base-finetuned-jd-binary-chinese',\n",
    "    'uer/roberta-base-finetuned-dianping-chinese',\n",
    "    'philschmid/distilbert-base-multilingual-cased-sentiment',\n",
    "    'philschmid/distilbert-base-multilingual-cased-sentiment-2',\n",
    "]\n",
    "# nlp = pipeline('sentiment-analysis', model=model_name)\n",
    "nlps = [pipeline('sentiment-analysis', model=model_name) for model_name in models]"
   ],
   "metadata": {
    "collapsed": false
   }
  },
  {
   "cell_type": "code",
   "execution_count": null,
   "outputs": [],
   "source": [
    "def get_positive_sentiment_score(text, nlps):\n",
    "    results = [nlp(text) for nlp in nlps]\n",
    "    scores = []\n",
    "    for result in results:\n",
    "        try:\n",
    "            scores.append(i['score'] for i in result if i['label'] == 'positive')\n",
    "            scores.append(i['score'] for i in result if i['label'] == 'neutral')\n",
    "            scores.append(i['score'] for i in result if i['label'] == 'positive (stars 4 and 5)')\n",
    "            print(result[0])\n",
    "        except:\n",
    "            pass\n",
    "#         positive_sentiment = result[0]['score'] if result[0]['label'] != 'negative (stars 1, 2 and 3)' else 1 - result[0]['score']\n",
    "    return scores"
   ],
   "metadata": {
    "collapsed": false
   }
  },
  {
   "cell_type": "code",
   "execution_count": null,
   "outputs": [],
   "source": [
    "tokenizer = AutoTokenizer.from_pretrained(\"uer/roberta-base-finetuned-jd-binary-chinese\")\n",
    "model = AutoModelForSequenceClassification.from_pretrained(\"uer/roberta-base-finetuned-jd-binary-chinese\")\n",
    "encoded_input = tokenizer(text, return_tensors='pt')\n",
    "with torch.no_grad():\n",
    "    logits = model(**encoded_input).logits\n",
    "    probabilities = torch.softmax(logits, dim=1).squeeze()\n",
    "    sentiment_scores = probabilities.tolist()\n",
    "print(sentiment_scores)"
   ],
   "metadata": {
    "collapsed": false
   }
  },
  {
   "cell_type": "code",
   "execution_count": null,
   "outputs": [],
   "source": [
    "from transformers import AutoTokenizer, AutoModelForSequenceClassification"
   ],
   "metadata": {
    "collapsed": false
   }
  },
  {
   "cell_type": "code",
   "execution_count": null,
   "outputs": [],
   "source": [],
   "metadata": {
    "collapsed": false
   }
  }
 ],
 "metadata": {
  "kernelspec": {
   "display_name": "Python 3",
   "language": "python",
   "name": "python3"
  },
  "language_info": {
   "codemirror_mode": {
    "name": "ipython",
    "version": 2
   },
   "file_extension": ".py",
   "mimetype": "text/x-python",
   "name": "python",
   "nbconvert_exporter": "python",
   "pygments_lexer": "ipython2",
   "version": "2.7.6"
  }
 },
 "nbformat": 4,
 "nbformat_minor": 0
}
