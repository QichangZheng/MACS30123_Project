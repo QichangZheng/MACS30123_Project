{
 "cells": [
  {
   "cell_type": "code",
   "execution_count": 4,
   "outputs": [],
   "source": [
    "import warnings\n",
    "warnings.filterwarnings('ignore')\n",
    "import boto3"
   ],
   "metadata": {
    "collapsed": false,
    "ExecuteTime": {
     "end_time": "2023-05-26T03:43:53.873111Z",
     "start_time": "2023-05-26T03:43:53.694102Z"
    }
   }
  },
  {
   "cell_type": "code",
   "execution_count": 5,
   "metadata": {
    "collapsed": true,
    "ExecuteTime": {
     "end_time": "2023-05-26T03:43:56.804571Z",
     "start_time": "2023-05-26T03:43:56.641334Z"
    }
   },
   "outputs": [],
   "source": [
    "s3 = boto3.client('s3')\n",
    "s3_resource = boto3.resource('s3')\n",
    "bucket = 'emrclusters'\n",
    "# s3_resource.create_bucket(Bucket=bucket)"
   ]
  },
  {
   "cell_type": "code",
   "execution_count": 6,
   "outputs": [],
   "source": [
    "filename = 'bootstrap'\n",
    "s3.upload_file(filename, bucket, filename)"
   ],
   "metadata": {
    "collapsed": false,
    "ExecuteTime": {
     "end_time": "2023-05-26T03:44:07.031035Z",
     "start_time": "2023-05-26T03:44:06.751964Z"
    }
   }
  },
  {
   "cell_type": "code",
   "execution_count": 9,
   "outputs": [
    {
     "name": "stdout",
     "output_type": "stream",
     "text": [
      "{\n",
      "    \"ClusterId\": \"j-X2YU1DPT9AXN\",\n",
      "    \"ClusterArn\": \"arn:aws:elasticmapreduce:us-east-1:534126281870:cluster/j-X2YU1DPT9AXN\"\n",
      "}\n"
     ]
    }
   ],
   "source": [
    "%%bash\n",
    "aws emr create-cluster --name \"Dask-Cluster\" \\\n",
    "    --release-label emr-6.2.0 \\\n",
    "    --applications Name=Hadoop \\\n",
    "    --instance-type m5.xlarge \\\n",
    "    --instance-count 5 \\\n",
    "    --bootstrap-actions Path=s3://emrclusters/bootstrap \\\n",
    "    --use-default-roles \\\n",
    "    --region us-east-1 \\\n",
    "    --ec2-attributes '{\"KeyName\":\"vockey\"}'"
   ],
   "metadata": {
    "collapsed": false,
    "ExecuteTime": {
     "end_time": "2023-05-26T03:45:01.532762Z",
     "start_time": "2023-05-26T03:45:00.543916Z"
    }
   }
  },
  {
   "cell_type": "code",
   "execution_count": 3,
   "outputs": [],
   "source": [
    "# sudo chmod 600 labsuser.pem"
   ],
   "metadata": {
    "collapsed": false
   }
  },
  {
   "cell_type": "code",
   "execution_count": null,
   "outputs": [],
   "source": [
    "%%bash\n",
    "killall ssh\n",
    "lsof -ti:8888 | xargs kill -9"
   ],
   "metadata": {
    "collapsed": false,
    "pycharm": {
     "is_executing": true
    }
   }
  },
  {
   "cell_type": "code",
   "execution_count": 1,
   "outputs": [],
   "source": [
    "# ssh -i labsuser.pem -NL 8888:localhost:8888 hadoop@ec2-34-229-88-127.compute-1.amazonaws.com"
   ],
   "metadata": {
    "collapsed": false
   }
  },
  {
   "cell_type": "code",
   "execution_count": 3,
   "outputs": [
    {
     "name": "stdout",
     "output_type": "stream",
     "text": [
      "{\n",
      "    \"ClusterId\": \"j-KHPK4A6C3OIX\",\n",
      "    \"ClusterArn\": \"arn:aws:elasticmapreduce:us-east-1:534126281870:cluster/j-KHPK4A6C3OIX\"\n",
      "}\n"
     ]
    }
   ],
   "source": [
    "%%bash\n",
    "aws emr create-cluster \\\n",
    "    --name \"Spark Cluster\" \\\n",
    "    --release-label \"emr-6.2.0\" \\\n",
    "    --applications Name=Hadoop Name=Hive Name=JupyterEnterpriseGateway Name=JupyterHub Name=Livy Name=Pig Name=Spark Name=Tez \\\n",
    "    --instance-type m5.xlarge \\\n",
    "    --instance-count 5 \\\n",
    "    --use-default-roles \\\n",
    "    --region us-east-1 \\\n",
    "    --ec2-attributes '{\"KeyName\": \"vockey\"}' \\\n",
    "    --configurations '[{\"Classification\": \"jupyter-s3-conf\", \"Properties\": {\"s3.persistence.enabled\": \"true\", \"s3.persistence.bucket\": \"emrclusters\"}}]'"
   ],
   "metadata": {
    "collapsed": false,
    "ExecuteTime": {
     "end_time": "2023-05-26T03:04:41.262930Z",
     "start_time": "2023-05-26T03:04:40.431786Z"
    }
   }
  },
  {
   "cell_type": "code",
   "execution_count": null,
   "outputs": [],
   "source": [
    "# ssh -i labsuser.pem hadoop@ec2-3-90-114-231.compute-1.amazonaws.com\n",
    "# ssh -i labsuser.pem -NL 9443:localhost:9443 hadoop@ec2-54-173-228-16.compute-1.amazonaws.com"
   ],
   "metadata": {
    "collapsed": false
   }
  },
  {
   "cell_type": "code",
   "execution_count": null,
   "outputs": [],
   "source": [
    "# spark-submit s3://emrclusters/Q234.py emrclusters"
   ],
   "metadata": {
    "collapsed": false
   }
  }
 ],
 "metadata": {
  "kernelspec": {
   "display_name": "Python 3",
   "language": "python",
   "name": "python3"
  },
  "language_info": {
   "codemirror_mode": {
    "name": "ipython",
    "version": 2
   },
   "file_extension": ".py",
   "mimetype": "text/x-python",
   "name": "python",
   "nbconvert_exporter": "python",
   "pygments_lexer": "ipython2",
   "version": "2.7.6"
  }
 },
 "nbformat": 4,
 "nbformat_minor": 0
}
