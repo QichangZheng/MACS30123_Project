{
 "cells": [
  {
   "cell_type": "code",
   "execution_count": 1,
   "metadata": {},
   "outputs": [
    {
     "data": {
      "text/html": [
       "Current session configs: <tt>{'conf': {'spark.pyspark.python': 'python3', 'spark.pyspark.virtualenv.enabled': 'true', 'spark.pyspark.virtualenv.type': 'native', 'spark.pyspark.virtualenv.bin.path': '/usr/bin/virtualenv'}, 'proxyUser': 'jovyan', 'kind': 'pyspark'}</tt><br>"
      ],
      "text/plain": [
       "<IPython.core.display.HTML object>"
      ]
     },
     "metadata": {},
     "output_type": "display_data"
    },
    {
     "data": {
      "text/html": [
       "No active sessions."
      ],
      "text/plain": [
       "<IPython.core.display.HTML object>"
      ]
     },
     "metadata": {},
     "output_type": "display_data"
    }
   ],
   "source": [
    "%%configure -f\n",
    "{\n",
    "    \"conf\": {\n",
    "        \"spark.pyspark.python\": \"python3\",\n",
    "        \"spark.pyspark.virtualenv.enabled\": \"true\",\n",
    "        \"spark.pyspark.virtualenv.type\":\"native\",\n",
    "        \"spark.pyspark.virtualenv.bin.path\":\"/usr/bin/virtualenv\"\n",
    "    }\n",
    "}"
   ]
  },
  {
   "cell_type": "code",
   "execution_count": null,
   "metadata": {},
   "outputs": [
    {
     "name": "stdout",
     "output_type": "stream",
     "text": [
      "Starting Spark application\n"
     ]
    },
    {
     "data": {
      "text/html": [
       "<table>\n",
       "<tr><th>ID</th><th>YARN Application ID</th><th>Kind</th><th>State</th><th>Spark UI</th><th>Driver log</th><th>Current session?</th></tr><tr><td>0</td><td>application_1684890915056_0002</td><td>pyspark</td><td>idle</td><td><a target=\"_blank\" href=\"http://ip-172-31-17-219.ec2.internal:20888/proxy/application_1684890915056_0002/\">Link</a></td><td><a target=\"_blank\" href=\"http://ip-172-31-24-105.ec2.internal:8042/node/containerlogs/container_1684890915056_0002_01_000001/livy\">Link</a></td><td>✔</td></tr></table>"
      ],
      "text/plain": [
       "<IPython.core.display.HTML object>"
      ]
     },
     "metadata": {},
     "output_type": "display_data"
    },
    {
     "data": {
      "application/vnd.jupyter.widget-view+json": {
       "model_id": "",
       "version_major": 2,
       "version_minor": 0
      },
      "text/plain": [
       "FloatProgress(value=0.0, bar_style='info', description='Progress:', layout=Layout(height='25px', width='50%'),…"
      ]
     },
     "metadata": {},
     "output_type": "display_data"
    },
    {
     "name": "stdout",
     "output_type": "stream",
     "text": [
      "SparkSession available as 'spark'.\n"
     ]
    },
    {
     "data": {
      "application/vnd.jupyter.widget-view+json": {
       "model_id": "4c6d613f489a42719a8f3b88560e9683",
       "version_major": 2,
       "version_minor": 0
      },
      "text/plain": [
       "FloatProgress(value=0.0, bar_style='info', description='Progress:', layout=Layout(height='25px', width='50%'),…"
      ]
     },
     "metadata": {},
     "output_type": "display_data"
    }
   ],
   "source": [
    "sc.install_pypi_package(\"boto3==1.19.2\")\n",
    "sc.install_pypi_package(\"pandas==1.0.5\")\n",
    "sc.install_pypi_package(\"scipy==1.4.1\")\n",
    "sc.install_pypi_package(\"matplotlib==3.2.1\")\n",
    "sc.install_pypi_package(\"seaborn==0.10.1\")\n",
    "sc.install_pypi_package('spark-nlp')\n",
    "sc.install_pypi_package(\"torch\")\n",
    "sc.install_pypi_package(\"transformers==4.2\")"
   ]
  },
  {
   "cell_type": "code",
   "execution_count": null,
   "metadata": {},
   "outputs": [],
   "source": [
    "from pyspark.sql import SparkSession\n",
    "from pyspark.sql.functions import *\n",
    "from pyspark.ml.classification import LogisticRegression\n",
    "from pyspark.ml.feature import VectorAssembler\n",
    "from pyspark.ml.tuning import CrossValidator, ParamGridBuilder\n",
    "from pyspark.ml.evaluation import BinaryClassificationEvaluator\n",
    "import numpy as np\n",
    "import matplotlib.pyplot as plt\n",
    "from transformers import pipeline\n",
    "import torch\n",
    "import sparknlp\n",
    "from sparknlp.pretrained import PretrainedPipeline\n",
    "from sparknlp.annotator import *\n",
    "from sparknlp.common import RegexRule\n",
    "from sparknlp.base import *"
   ]
  },
  {
   "cell_type": "code",
   "execution_count": null,
   "metadata": {},
   "outputs": [],
   "source": [
    "data = spark.read.json('s3://amazon-reviews-ml/json/train/dataset_zh_train.json')"
   ]
  },
  {
   "cell_type": "markdown",
   "metadata": {},
   "source": [
    "# Q2"
   ]
  },
  {
   "cell_type": "code",
   "execution_count": 76,
   "metadata": {},
   "outputs": [
    {
     "data": {
      "application/vnd.jupyter.widget-view+json": {
       "model_id": "",
       "version_major": 2,
       "version_minor": 0
      },
      "text/plain": [
       "FloatProgress(value=0.0, bar_style='info', description='Progress:', layout=Layout(height='25px', width='50%'),…"
      ]
     },
     "metadata": {},
     "output_type": "display_data"
    },
    {
     "name": "stdout",
     "output_type": "stream",
     "text": [
      "Downloading: 100%|##########| 814/814 [00:00<00:00, 3.95MB/s]\n",
      "Downloading: 100%|##########| 541M/541M [00:08<00:00, 60.6MB/s]\n",
      "Downloading: 100%|##########| 996k/996k [00:00<00:00, 55.4MB/s]\n",
      "Downloading: 100%|##########| 1.96M/1.96M [00:00<00:00, 58.3MB/s]\n",
      "Downloading: 100%|##########| 112/112 [00:00<00:00, 862kB/s]\n",
      "Downloading: 100%|##########| 345/345 [00:00<00:00, 2.92MB/s]\n",
      "Downloading: 100%|##########| 996k/996k [00:00<00:00, 57.6MB/s]\n",
      "Downloading: 100%|##########| 1.96M/1.96M [00:00<00:00, 51.9MB/s]\n",
      "Downloading: 100%|##########| 112/112 [00:00<00:00, 562kB/s]\n",
      "Downloading: 100%|##########| 345/345 [00:00<00:00, 2.77MB/s]"
     ]
    }
   ],
   "source": [
    "from transformers import pipeline\n",
    "# model_name = 'uer/roberta-base-finetuned-jd-binary-chinese'\n",
    "# model_name = 'uer/roberta-base-finetuned-dianping-chinese'\n",
    "Models = [\n",
    "    'uer/roberta-base-finetuned-jd-binary-chinese',\n",
    "    'uer/roberta-base-finetuned-dianping-chinese',\n",
    "    'philschmid/distilbert-base-multilingual-cased-sentiment',\n",
    "    'philschmid/distilbert-base-multilingual-cased-sentiment-2',\n",
    "]\n",
    "# nlp = pipeline('sentiment-analysis', model=model_name)\n",
    "nlps = [pipeline('sentiment-analysis', model=model_name) for model_name in models]"
   ]
  },
  {
   "cell_type": "code",
   "execution_count": 93,
   "metadata": {},
   "outputs": [
    {
     "data": {
      "application/vnd.jupyter.widget-view+json": {
       "model_id": "",
       "version_major": 2,
       "version_minor": 0
      },
      "text/plain": [
       "FloatProgress(value=0.0, bar_style='info', description='Progress:', layout=Layout(height='25px', width='50%'),…"
      ]
     },
     "metadata": {},
     "output_type": "display_data"
    }
   ],
   "source": [
    "def get_positive_sentiment_score(text, nlps):\n",
    "    results = [nlp(text) for nlp in nlps]\n",
    "    scores = []\n",
    "    for result in results:\n",
    "        try:\n",
    "            scores.append(i['score'] for i in result if i['label'] == 'positive')\n",
    "            scores.append(i['score'] for i in result if i['label'] == 'neutral')\n",
    "            scores.append(i['score'] for i in result if i['label'] == 'positive (stars 4 and 5)')\n",
    "            print(result[0])\n",
    "        except:\n",
    "            pass\n",
    "#         positive_sentiment = result[0]['score'] if result[0]['label'] != 'negative (stars 1, 2 and 3)' else 1 - result[0]['score']\n",
    "    return scores"
   ]
  },
  {
   "cell_type": "code",
   "execution_count": 94,
   "metadata": {},
   "outputs": [
    {
     "data": {
      "application/vnd.jupyter.widget-view+json": {
       "model_id": "",
       "version_major": 2,
       "version_minor": 0
      },
      "text/plain": [
       "FloatProgress(value=0.0, bar_style='info', description='Progress:', layout=Layout(height='25px', width='50%'),…"
      ]
     },
     "metadata": {},
     "output_type": "display_data"
    }
   ],
   "source": [
    "text = '''\n",
    "封面其实我是很喜欢的，但我觉得这个出版社是个极品，一本书，感觉像是拼凑的一样，一页里，一版加粗，一版不加！这种心情真是很随意哈！ 叔本华其实挺有趣的，很遗憾的是找不到太多的他的书！第一次了解他是亚龙的《叔本华的治疗》那种感觉，就像感觉到另一个有点郁闷的自己，随后有本传记引用的《早期手稿》，想看他的第一手材料，而不是通过另一个人看见他，所幸他确实有本经典传世作品《作为意志和表象的世界》，但我感觉这是他的论述，相当于论文一样的文章，比较想看他私人的东西，说实话，哲学对我这个学渣又没有打基础的人来说，非常，不是一般的吃力。\n",
    "'''"
   ]
  },
  {
   "cell_type": "code",
   "execution_count": 95,
   "metadata": {},
   "outputs": [
    {
     "data": {
      "application/vnd.jupyter.widget-view+json": {
       "model_id": "",
       "version_major": 2,
       "version_minor": 0
      },
      "text/plain": [
       "FloatProgress(value=0.0, bar_style='info', description='Progress:', layout=Layout(height='25px', width='50%'),…"
      ]
     },
     "metadata": {},
     "output_type": "display_data"
    },
    {
     "name": "stdout",
     "output_type": "stream",
     "text": [
      "{'label': 'negative (stars 1, 2 and 3)', 'score': 0.7045357823371887}\n",
      "{'label': 'negative (stars 1, 2 and 3)', 'score': 0.8519057035446167}\n",
      "{'label': 'negative', 'score': 0.6651836037635803}\n",
      "{'label': 'neutral', 'score': 0.524416983127594}\n",
      "[<generator object get_positive_sentiment_score.<locals>.<genexpr> at 0x7fe6f9879ed0>, <generator object get_positive_sentiment_score.<locals>.<genexpr> at 0x7fe70ea8a950>, <generator object get_positive_sentiment_score.<locals>.<genexpr> at 0x7fe70591c250>, <generator object get_positive_sentiment_score.<locals>.<genexpr> at 0x7fe70591c3d0>, <generator object get_positive_sentiment_score.<locals>.<genexpr> at 0x7fe70591c150>, <generator object get_positive_sentiment_score.<locals>.<genexpr> at 0x7fe70591c450>, <generator object get_positive_sentiment_score.<locals>.<genexpr> at 0x7fe70591c4d0>, <generator object get_positive_sentiment_score.<locals>.<genexpr> at 0x7fe70591c5d0>, <generator object get_positive_sentiment_score.<locals>.<genexpr> at 0x7fe70591c550>, <generator object get_positive_sentiment_score.<locals>.<genexpr> at 0x7fe700dd57d0>, <generator object get_positive_sentiment_score.<locals>.<genexpr> at 0x7fe700dd5750>, <generator object get_positive_sentiment_score.<locals>.<genexpr> at 0x7fe700dd5850>]"
     ]
    }
   ],
   "source": [
    "get_positive_sentiment_score(text, nlps)"
   ]
  },
  {
   "cell_type": "code",
   "execution_count": 57,
   "metadata": {},
   "outputs": [
    {
     "data": {
      "application/vnd.jupyter.widget-view+json": {
       "model_id": "",
       "version_major": 2,
       "version_minor": 0
      },
      "text/plain": [
       "FloatProgress(value=0.0, bar_style='info', description='Progress:', layout=Layout(height='25px', width='50%'),…"
      ]
     },
     "metadata": {},
     "output_type": "display_data"
    },
    {
     "name": "stdout",
     "output_type": "stream",
     "text": [
      "[Row(language='zh', product_category='shoes', product_id='product_zh_0119888', review_body='还不错，黑五价格很优惠，和预想的差不多。本人运动鞋穿40的，买的7，鞋有点长，大小差不多，仅供参考。', review_id='zh_0077209', review_title='很满意。', reviewer_id='reviewer_zh_0477454', stars='5'), Row(language='zh', product_category='book', product_id='product_zh_0886806', review_body='非常实用，已开始编织小杯垫，彩页是基础花样，后面有大型的图案～', review_id='zh_0680449', review_title='实用，花样很多。', reviewer_id='reviewer_zh_0813215', stars='5'), Row(language='zh', product_category='watch', product_id='product_zh_0854937', review_body='除了物流慢，其他完美，减了200元，包装完好。', review_id='zh_0021933', review_title='不错，表带没想象中硬', reviewer_id='reviewer_zh_0538486', stars='5'), Row(language='zh', product_category='book', product_id='product_zh_0345287', review_body='东野叔的书，白夜行的姐妹篇，盛名之下去买的看的，只能说东野不会让人失望', review_id='zh_0159792', review_title='幻夜', reviewer_id='reviewer_zh_0408869', stars='5'), Row(language='zh', product_category='beauty', product_id='product_zh_0143288', review_body='给孩子买的，镇静作用还好。不过主要还是抹防晒，和不要在外面大太阳下太久。这个是晒伤了备用的啊。', review_id='zh_0995118', review_title='好用', reviewer_id='reviewer_zh_0494918', stars='5'), Row(language='zh', product_category='book', product_id='product_zh_0897061', review_body='无论从老外的思维方式，到本书内容，都值得拥有！', review_id='zh_0936064', review_title='非常实用', reviewer_id='reviewer_zh_0077687', stars='5'), Row(language='zh', product_category='drugstore', product_id='product_zh_0204906', review_body='非常好用 可以做大背头的时候用 女朋友也可以用来整理小碎发', review_id='zh_0177988', review_title='逆袭运程的小鸡', reviewer_id='reviewer_zh_0950815', stars='5'), Row(language='zh', product_category='baby_product', product_id='product_zh_0550679', review_body='已经开始有蚊子了，，戴起来还不错，不知道有没有用，希望管用吧', review_id='zh_0332960', review_title='希望管用吧', reviewer_id='reviewer_zh_0354728', stars='5'), Row(language='zh', product_category='book', product_id='product_zh_0614057', review_body='开本，用纸，画风都太棒了。世图这个版本是良心之作。希望引进更多，省得我费心力淘原版了。后面附有的星球日报报纸也挺有趣。', review_id='zh_0432983', review_title='太棒了', reviewer_id='reviewer_zh_0690636', stars='5'), Row(language='zh', product_category='apparel', product_id='product_zh_0539353', review_body='wrangler的裤子就是这么粗犷，用料很厚实。 秋冬的裤子。 尺码的话，肯定是偏大的，但也不见得偏大多少。 喜欢特别宽松的，就按国内的尺码买就行。 喜欢一般宽松的，就买小一码。', review_id='zh_0854362', review_title='挺好的裤子', reviewer_id='reviewer_zh_0953666', stars='5')]"
     ]
    }
   ],
   "source": [
    "data[data['stars'] == 5].head(10)"
   ]
  },
  {
   "cell_type": "code",
   "execution_count": 72,
   "metadata": {},
   "outputs": [
    {
     "data": {
      "application/vnd.jupyter.widget-view+json": {
       "model_id": "",
       "version_major": 2,
       "version_minor": 0
      },
      "text/plain": [
       "FloatProgress(value=0.0, bar_style='info', description='Progress:', layout=Layout(height='25px', width='50%'),…"
      ]
     },
     "metadata": {},
     "output_type": "display_data"
    }
   ],
   "source": [
    "from transformers import AutoModelForSequenceClassification\n",
    "\n",
    "model = AutoModelForSequenceClassification.from_pretrained(\"philschmid/distilbert-base-multilingual-cased-sentiment-2\", num_labels=3)"
   ]
  },
  {
   "cell_type": "code",
   "execution_count": null,
   "metadata": {},
   "outputs": [],
   "source": [
    "from transformers import AutoTokenizer"
   ]
  },
  {
   "cell_type": "code",
   "execution_count": 96,
   "metadata": {},
   "outputs": [
    {
     "data": {
      "application/vnd.jupyter.widget-view+json": {
       "model_id": "",
       "version_major": 2,
       "version_minor": 0
      },
      "text/plain": [
       "FloatProgress(value=0.0, bar_style='info', description='Progress:', layout=Layout(height='25px', width='50%'),…"
      ]
     },
     "metadata": {},
     "output_type": "display_data"
    },
    {
     "name": "stderr",
     "output_type": "stream",
     "text": [
      "An error was encountered:\n",
      "name 'AutoTokenizer' is not defined\n",
      "Traceback (most recent call last):\n",
      "NameError: name 'AutoTokenizer' is not defined\n",
      "\n"
     ]
    }
   ],
   "source": [
    "tokenizer = AutoTokenizer.from_pretrained(\"uer/roberta-base-finetuned-jd-binary-chinese\")\n",
    "model = AutoModelForSequenceClassification.from_pretrained(\"uer/roberta-base-finetuned-jd-binary-chinese\")\n",
    "tokenizers = [AutoTokenizer.from_pretrained(model_name) for model_name in Models]\n",
    "models = [AutoModelForSequenceClassification.from_pretrained(model_name) for model_name in Models]\n",
    "\n",
    "def get_score(text):\n",
    "    sentiment_scores = []\n",
    "    for i in range(len(Models)):\n",
    "        tokenizer = tokenizer[i]\n",
    "        model = models[i]\n",
    "        encoded_input = tokenizer(text, return_tensors='pt')\n",
    "        with torch.no_grad():\n",
    "            logits = model(**encoded_input).logits\n",
    "            probabilities = torch.softmax(logits, dim=1).squeeze()\n",
    "            sentiment_scores.extprobabilities.tolist()\n",
    "    \n",
    "print(sentiment_scores)"
   ]
  },
  {
   "cell_type": "code",
   "execution_count": 5,
   "metadata": {},
   "outputs": [
    {
     "data": {
      "application/vnd.jupyter.widget-view+json": {
       "model_id": "",
       "version_major": 2,
       "version_minor": 0
      },
      "text/plain": [
       "FloatProgress(value=0.0, bar_style='info', description='Progress:', layout=Layout(height='25px', width='50%'),…"
      ]
     },
     "metadata": {},
     "output_type": "display_data"
    }
   ],
   "source": [
    "data = data.withColumn('good_review', (data.star_rating >= 4).cast(\"integer\")) \\\n",
    "                           .persist()\n",
    "data = data.withColumn('title_len', (length(data.product_title)).cast(\"integer\")) \\\n",
    "                           .persist()\n",
    "data = data.withColumn('helpful_prop', (data.helpful_votes / data.total_votes).cast(\"double\")) \\\n",
    "                           .persist()\n",
    "data = data.withColumn('verified_pur', (data.verified_purchase == \"Y\").cast(\"integer\")) \\\n",
    "                           .persist()"
   ]
  },
  {
   "cell_type": "code",
   "execution_count": 6,
   "metadata": {
    "pycharm": {
     "is_executing": true
    }
   },
   "outputs": [
    {
     "data": {
      "application/vnd.jupyter.widget-view+json": {
       "model_id": "",
       "version_major": 2,
       "version_minor": 0
      },
      "text/plain": [
       "FloatProgress(value=0.0, bar_style='info', description='Progress:', layout=Layout(height='25px', width='50%'),…"
      ]
     },
     "metadata": {},
     "output_type": "display_data"
    },
    {
     "name": "stdout",
     "output_type": "stream",
     "text": [
      "+-----------+-------+\n",
      "|good_review|  count|\n",
      "+-----------+-------+\n",
      "|          1|3443123|\n",
      "|          0|3517710|\n",
      "+-----------+-------+"
     ]
    }
   ],
   "source": [
    "sampled = data.sampleBy(\"good_review\", fractions={1:0.2,0:1},seed = 521)\n",
    "sampled.groupBy('good_review').count().show()"
   ]
  },
  {
   "cell_type": "markdown",
   "metadata": {},
   "source": [
    "# Q3"
   ]
  },
  {
   "cell_type": "code",
   "execution_count": 7,
   "metadata": {},
   "outputs": [
    {
     "data": {
      "application/vnd.jupyter.widget-view+json": {
       "model_id": "",
       "version_major": 2,
       "version_minor": 0
      },
      "text/plain": [
       "FloatProgress(value=0.0, bar_style='info', description='Progress:', layout=Layout(height='25px', width='50%'),…"
      ]
     },
     "metadata": {},
     "output_type": "display_data"
    }
   ],
   "source": [
    "features = ['total_votes', \"title_len\", \"helpful_prop\", \"verified_pur\"]\n",
    "assembler = VectorAssembler(inputCols = features, outputCol = 'features')\n",
    "try:\n",
    "    sampled = sampled.drop(\"features\")\n",
    "except:\n",
    "    pass\n",
    "sampled = assembler.transform(sampled.na.drop())"
   ]
  },
  {
   "cell_type": "code",
   "execution_count": 21,
   "metadata": {
    "pycharm": {
     "is_executing": true
    },
    "scrolled": true
   },
   "outputs": [
    {
     "data": {
      "application/vnd.jupyter.widget-view+json": {
       "model_id": "",
       "version_major": 2,
       "version_minor": 0
      },
      "text/plain": [
       "FloatProgress(value=0.0, bar_style='info', description='Progress:', layout=Layout(height='25px', width='50%'),…"
      ]
     },
     "metadata": {},
     "output_type": "display_data"
    }
   ],
   "source": [
    "def Train(model, train):\n",
    "    if train is not None:\n",
    "        model = model.fit(train)\n",
    "        trainingSummary = model.summary\n",
    "        print(\"Training AUC: \" + str(trainingSummary.areaUnderROC))\n",
    "        print(\"\\nFalse positive rate by label (Training):\")\n",
    "        for i, rate in enumerate(trainingSummary.falsePositiveRateByLabel):\n",
    "            print(\"label %d: %s\" % (i, rate))\n",
    "        print(\"\\nTrue positive rate by label (Training):\")\n",
    "        for i, rate in enumerate(trainingSummary.truePositiveRateByLabel):\n",
    "            print(\"label %d: %s\" % (i, rate))\n",
    "        print(\"\\nTraining Accuracy: \" + str(trainingSummary.accuracy))\n",
    "    return model"
   ]
  },
  {
   "cell_type": "code",
   "execution_count": 22,
   "metadata": {},
   "outputs": [
    {
     "data": {
      "application/vnd.jupyter.widget-view+json": {
       "model_id": "",
       "version_major": 2,
       "version_minor": 0
      },
      "text/plain": [
       "FloatProgress(value=0.0, bar_style='info', description='Progress:', layout=Layout(height='25px', width='50%'),…"
      ]
     },
     "metadata": {},
     "output_type": "display_data"
    },
    {
     "name": "stdout",
     "output_type": "stream",
     "text": [
      "Training AUC: 0.6912568033607035\n",
      "\n",
      "False positive rate by label (Training):\n",
      "label 0: 0.4726280792931711\n",
      "label 1: 0.23405795555414424\n",
      "\n",
      "True positive rate by label (Training):\n",
      "label 0: 0.7659420444458558\n",
      "label 1: 0.5273719207068289\n",
      "\n",
      "Training Accuracy: 0.6667222146548152\n",
      "Test AUC:  0.6918882811917045\n",
      "Test Accuracy:  0.6672860065693302"
     ]
    }
   ],
   "source": [
    "train, test = sampled.randomSplit([0.7, 0.3], seed = 521)\n",
    "lr = LogisticRegression(featuresCol='features', labelCol='good_review')\n",
    "trained1 = Train(lr, train)\n",
    "evaluationSummary1 = trained1.evaluate(test)\n",
    "print(\"Test AUC: \", str(evaluationSummary1.areaUnderROC))\n",
    "print(\"Test Accuracy: \", str(evaluationSummary1.accuracy))"
   ]
  },
  {
   "cell_type": "code",
   "execution_count": 23,
   "metadata": {},
   "outputs": [
    {
     "data": {
      "application/vnd.jupyter.widget-view+json": {
       "model_id": "",
       "version_major": 2,
       "version_minor": 0
      },
      "text/plain": [
       "FloatProgress(value=0.0, bar_style='info', description='Progress:', layout=Layout(height='25px', width='50%'),…"
      ]
     },
     "metadata": {},
     "output_type": "display_data"
    },
    {
     "data": {
      "image/png": "[encoded data removed]",
      "text/plain": [
       "<IPython.core.display.Image object>"
      ]
     },
     "metadata": {},
     "output_type": "display_data"
    }
   ],
   "source": [
    "roc_df = evaluationSummary1.roc.toPandas()\n",
    "plt.close()\n",
    "plt.plot(roc_df.FPR, roc_df.TPR, 'b', label = 'AUC = %0.2f' % evaluationSummary1.areaUnderROC)\n",
    "plt.legend(loc = 'lower right')\n",
    "plt.plot([0, 1], [0, 1],'r--')\n",
    "plt.xlim([0, 1])\n",
    "plt.ylim([0, 1])\n",
    "plt.ylabel('True Positive Rate')\n",
    "plt.xlabel('False Positive Rate')\n",
    "plt.title('ROC Curve')\n",
    "plt.show()\n",
    "%matplot plt"
   ]
  },
  {
   "cell_type": "markdown",
   "metadata": {},
   "source": [
    "# Q4"
   ]
  },
  {
   "cell_type": "code",
   "execution_count": 14,
   "metadata": {},
   "outputs": [
    {
     "data": {
      "application/vnd.jupyter.widget-view+json": {
       "model_id": "",
       "version_major": 2,
       "version_minor": 0
      },
      "text/plain": [
       "FloatProgress(value=0.0, bar_style='info', description='Progress:', layout=Layout(height='25px', width='50%'),…"
      ]
     },
     "metadata": {},
     "output_type": "display_data"
    },
    {
     "name": "stdout",
     "output_type": "stream",
     "text": [
      "0.0\n",
      "1.0\n",
      "Test AUC:  0.6918443754172726\n",
      "Test Accuracy:  0.6672860065693302"
     ]
    }
   ],
   "source": [
    "train_data = train.withColumnRenamed(\"good_review\",\"label\")\n",
    "test_data = test.withColumnRenamed(\"good_review\",\"label\")\n",
    "lr = LogisticRegression()\n",
    "grid = ParamGridBuilder().addGrid(lr.regParam, np.arange(0,.1,.01)) \\\n",
    ".addGrid(lr.elasticNetParam, [0, 1]).build()\n",
    "evaluator = BinaryClassificationEvaluator()\n",
    "cv = CrossValidator(estimator=lr, estimatorParamMaps=grid, evaluator=evaluator,\n",
    "    parallelism=320, numFolds = 5)\n",
    "cvModel = cv.fit(train_data)\n",
    "print(cvModel.bestModel.getRegParam())\n",
    "print(cvModel.bestModel.getElasticNetParam())\n",
    "best = cvModel.bestModel\n",
    "evaluationSummary2 = best.evaluate(test_data)\n",
    "print(\"Test AUC: \", str(evaluationSummary2.areaUnderROC))  \n",
    "print(\"Test Accuracy: \", str(evaluationSummary2.accuracy))"
   ]
  },
  {
   "cell_type": "code",
   "execution_count": 15,
   "metadata": {},
   "outputs": [
    {
     "data": {
      "application/vnd.jupyter.widget-view+json": {
       "model_id": "",
       "version_major": 2,
       "version_minor": 0
      },
      "text/plain": [
       "FloatProgress(value=0.0, bar_style='info', description='Progress:', layout=Layout(height='25px', width='50%'),…"
      ]
     },
     "metadata": {},
     "output_type": "display_data"
    },
    {
     "data": {
      "image/png": "[encoded data removed]",
      "text/plain": [
       "<IPython.core.display.Image object>"
      ]
     },
     "metadata": {},
     "output_type": "display_data"
    }
   ],
   "source": [
    "roc_df = evaluationSummary2.roc.toPandas()\n",
    "plt.close()\n",
    "\n",
    "plt.plot(roc_df.FPR, roc_df.TPR, 'b', label = 'AUC = %0.2f' % evaluationSummary2.areaUnderROC)\n",
    "plt.legend(loc = 'lower right')\n",
    "plt.plot([0, 1], [0, 1],'r--')\n",
    "plt.xlim([0, 1])\n",
    "plt.ylim([0, 1])\n",
    "plt.ylabel('True Positive Rate')\n",
    "plt.xlabel('False Positive Rate')\n",
    "plt.title('ROC Curve')\n",
    "plt.show()\n",
    "\n",
    "%matplot plt"
   ]
  },
  {
   "cell_type": "code",
   "execution_count": 16,
   "metadata": {},
   "outputs": [
    {
     "data": {
      "application/vnd.jupyter.widget-view+json": {
       "model_id": "",
       "version_major": 2,
       "version_minor": 0
      },
      "text/plain": [
       "FloatProgress(value=0.0, bar_style='info', description='Progress:', layout=Layout(height='25px', width='50%'),…"
      ]
     },
     "metadata": {},
     "output_type": "display_data"
    },
    {
     "name": "stdout",
     "output_type": "stream",
     "text": [
      "\n",
      "False positive rate by label (Training):\n",
      "label 0: 0.4714433841175984\n",
      "label 1: 0.23361619608520423\n",
      "\n",
      "True positive rate by label (Training):\n",
      "label 0: 0.7663838039147958\n",
      "label 1: 0.5285566158824017"
     ]
    }
   ],
   "source": [
    "print(\"\\nFalse positive rate by label (Training):\")\n",
    "for i, rate in enumerate(evaluationSummary2.falsePositiveRateByLabel):\n",
    "    print(\"label %d: %s\" % (i, rate))\n",
    "print(\"\\nTrue positive rate by label (Training):\")\n",
    "for i, rate in enumerate(evaluationSummary2.truePositiveRateByLabel):\n",
    "    print(\"label %d: %s\" % (i, rate))"
   ]
  },
  {
   "cell_type": "code",
   "execution_count": null,
   "metadata": {},
   "outputs": [],
   "source": []
  }
 ],
 "metadata": {
  "kernelspec": {
   "display_name": "PySpark",
   "language": "",
   "name": "pysparkkernel"
  },
  "language_info": {
   "codemirror_mode": {
    "name": "python",
    "version": 3
   },
   "mimetype": "text/x-python",
   "name": "pyspark",
   "pygments_lexer": "python3"
  }
 },
 "nbformat": 4,
 "nbformat_minor": 4
}
